{
 "cells": [
  {
   "cell_type": "markdown",
   "id": "5dd5d895",
   "metadata": {},
   "source": [
    "[![Binder](https://mybinder.org/badge_logo.svg)](https://gesis.mybinder.org/v2/gh/homalg-project/CapAndHomalgNotebooks/master?urlpath=git-pull%3Frepo%3Dhttps%253A%252F%252Fgithub.com%252Fhomalg-project%252FFinSetsForCAP%26urlpath%3Dtree%252FFinSetsForCAP%252Fexamples%252F%252Fnotebooks%252Ftyped_lambda_calculus_and_category_theory.ipynb%26branch%3Dmaster)"
   ]
  },
  {
   "cell_type": "markdown",
   "id": "79ce43d6",
   "metadata": {},
   "source": [
    "Load required Julia and GAP packages:"
   ]
  },
  {
   "cell_type": "code",
   "execution_count": 1,
   "id": "13271383",
   "metadata": {},
   "outputs": [
    {
     "name": "stdout",
     "output_type": "stream",
     "text": [
      "CapAndHomalg v\u001b[32m1.4.1\u001b[39m\n",
      "Imported OSCAR's components GAP and Singular_jll\n",
      "Type: ?CapAndHomalg for more information\n"
     ]
    }
   ],
   "source": [
    "using CapAndHomalg"
   ]
  },
  {
   "cell_type": "code",
   "execution_count": 2,
   "id": "46cf8da3",
   "metadata": {},
   "outputs": [],
   "source": [
    "LoadPackage( \"FinSetsForCAP\" );"
   ]
  },
  {
   "cell_type": "markdown",
   "id": "f417ce98",
   "metadata": {},
   "source": [
    "#### Convenience\n",
    "Hide technical terms from category theory behind technical terms from lamda calculus:"
   ]
  },
  {
   "cell_type": "code",
   "execution_count": 3,
   "id": "3b2087ca",
   "metadata": {},
   "outputs": [],
   "source": [
    "NewContext = DirectProduct; # for a context and a type\n",
    "FunctionType = ExponentialOnObjects; # for two types\n",
    "EmptyContext = TerminalObject;\n",
    "AsNamedConstant = CartesianLambdaIntroduction;\n",
    "FreeVariableOfType = IdentityMorphism;\n",
    "\n",
    "Application = function( source_type, range_type, function_type_judgement, term_type_judgement )\n",
    "    \n",
    "    @assert IsEqualForObjects( Range( function_type_judgement ), ExponentialOnObjects( source_type, range_type ) )\n",
    "    @assert IsEqualForObjects( Range( term_type_judgement ), source_type )\n",
    "    \n",
    "    return PreCompose( DirectProductFunctorial( GapObj( [ function_type_judgement, term_type_judgement ] ) ), CartesianEvaluationMorphism( source_type, range_type ) );\n",
    "    \n",
    "end;\n",
    "\n",
    "Abstraction = function( context, variable_type, term_type_judgement )\n",
    "    \n",
    "    @assert Source( term_type_judgement ) == DirectProduct( context, variable_type );\n",
    "    \n",
    "    return DirectProductToExponentialAdjunctionMap( context, variable_type, term_type_judgement );\n",
    "    \n",
    "end;\n",
    "\n",
    "ConstantMapOfFinSets = function ( source, element, range )\n",
    "    \n",
    "    @assert element in AsList( range );\n",
    "    \n",
    "    return MapOfFinSets( source, List( source, GapObj( x -> GapObj( [ x, element ] ) ) ), range );\n",
    "    \n",
    "end;"
   ]
  },
  {
   "cell_type": "markdown",
   "id": "e37ea967",
   "metadata": {},
   "source": [
    "#### Example: Objects and morphisms in the category FinSets"
   ]
  },
  {
   "cell_type": "code",
   "execution_count": 4,
   "id": "f2dc3814",
   "metadata": {},
   "outputs": [
    {
     "data": {
      "text/plain": [
       "GAP: <An object in FinSets>"
      ]
     },
     "execution_count": 4,
     "metadata": {},
     "output_type": "execute_result"
    }
   ],
   "source": [
    "M = FinSet( [ 0, 1, 2 ] )"
   ]
  },
  {
   "cell_type": "code",
   "execution_count": 5,
   "id": "5183d4fc",
   "metadata": {},
   "outputs": [
    {
     "data": {
      "text/plain": [
       "GAP: <An object in FinSets>"
      ]
     },
     "execution_count": 5,
     "metadata": {},
     "output_type": "execute_result"
    }
   ],
   "source": [
    "N = FinSet( [ 0, 1 ] )"
   ]
  },
  {
   "cell_type": "code",
   "execution_count": 6,
   "id": "7e23c89c",
   "metadata": {},
   "outputs": [
    {
     "data": {
      "text/plain": [
       "GAP: <A morphism in FinSets>"
      ]
     },
     "execution_count": 6,
     "metadata": {},
     "output_type": "execute_result"
    }
   ],
   "source": [
    "f = MapOfFinSets( M, [ [0,1], [1,0], [2,0] ], N )"
   ]
  },
  {
   "cell_type": "code",
   "execution_count": 7,
   "id": "48760fdf",
   "metadata": {},
   "outputs": [
    {
     "name": "stdout",
     "output_type": "stream",
     "text": [
      "true\n"
     ]
    }
   ],
   "source": [
    "Display( IsWellDefined( f ) );"
   ]
  },
  {
   "cell_type": "markdown",
   "id": "ea55489b",
   "metadata": {},
   "source": [
    "#### Example: Types and contexts\n",
    "\n",
    "Choose some semantics/interpretation for the sets constructed above:"
   ]
  },
  {
   "cell_type": "code",
   "execution_count": 8,
   "id": "e00a5c79",
   "metadata": {},
   "outputs": [],
   "source": [
    "M; # the type of integers mod 3 (could also be the type of Apples, Bananas, Oranges)\n",
    "N; # the type of integers mod 2"
   ]
  },
  {
   "cell_type": "code",
   "execution_count": 9,
   "id": "f7a4989e",
   "metadata": {},
   "outputs": [],
   "source": [
    "empty_context = EmptyContext( FinSets );"
   ]
  },
  {
   "cell_type": "markdown",
   "id": "369ebbc3",
   "metadata": {},
   "source": [
    "Construct a context with two free variables: the first of type \"integers mod 3\", the second of type \"integers mod 2\":"
   ]
  },
  {
   "cell_type": "code",
   "execution_count": 10,
   "id": "8da847ae",
   "metadata": {},
   "outputs": [
    {
     "name": "stdout",
     "output_type": "stream",
     "text": [
      "[ [ [ \"*\", 0 ], 0 ], [ [ \"*\", 1 ], 0 ], [ [ \"*\", 2 ], 0 ], [ [ \"*\", 0 ], 1 ], [ [ \"*\", 1 ], 1 ], [ [ \"*\", 2 ], 1 ] ]\n"
     ]
    }
   ],
   "source": [
    "context_1_M_N = NewContext( NewContext( empty_context, M ), N );\n",
    "Display( context_1_M_N );"
   ]
  },
  {
   "cell_type": "markdown",
   "id": "99321f95",
   "metadata": {},
   "source": [
    "Construct a function type:"
   ]
  },
  {
   "cell_type": "code",
   "execution_count": 11,
   "id": "e953f53e",
   "metadata": {},
   "outputs": [
    {
     "name": "stdout",
     "output_type": "stream",
     "text": [
      "[ [ 0, 1, 2 ], [ [ 0, 0 ], [ 1, 0 ], [ 2, 0 ] ], [ 0, 1 ] ]\n",
      "[ [ 0, 1, 2 ], [ [ 0, 1 ], [ 1, 0 ], [ 2, 0 ] ], [ 0, 1 ] ]\n",
      "[ [ 0, 1, 2 ], [ [ 0, 0 ], [ 1, 1 ], [ 2, 0 ] ], [ 0, 1 ] ]\n",
      "[ [ 0, 1, 2 ], [ [ 0, 1 ], [ 1, 1 ], [ 2, 0 ] ], [ 0, 1 ] ]\n",
      "[ [ 0, 1, 2 ], [ [ 0, 0 ], [ 1, 0 ], [ 2, 1 ] ], [ 0, 1 ] ]\n",
      "[ [ 0, 1, 2 ], [ [ 0, 1 ], [ 1, 0 ], [ 2, 1 ] ], [ 0, 1 ] ]\n",
      "[ [ 0, 1, 2 ], [ [ 0, 0 ], [ 1, 1 ], [ 2, 1 ] ], [ 0, 1 ] ]\n",
      "[ [ 0, 1, 2 ], [ [ 0, 1 ], [ 1, 1 ], [ 2, 1 ] ], [ 0, 1 ] ]\n"
     ]
    }
   ],
   "source": [
    "list_of_maps_M_to_N = AsList( FunctionType( M, N ) );\n",
    "Perform( list_of_maps_M_to_N, Display );"
   ]
  },
  {
   "cell_type": "markdown",
   "id": "43431b4f",
   "metadata": {},
   "source": [
    "#### Example: successor function"
   ]
  },
  {
   "cell_type": "markdown",
   "id": "dfbd88e3",
   "metadata": {},
   "source": [
    "Define the successor function mod 3 as an external function:"
   ]
  },
  {
   "cell_type": "code",
   "execution_count": 12,
   "id": "365c2dfb",
   "metadata": {},
   "outputs": [],
   "source": [
    "external_successor_mod_3 = MapOfFinSets( M, [ [0,1], [1,2], [2,0] ], M );\n",
    "@assert IsWellDefined( external_successor_mod_3 );"
   ]
  },
  {
   "cell_type": "markdown",
   "id": "ed593fc5",
   "metadata": {},
   "source": [
    "Import it as a named constant:"
   ]
  },
  {
   "cell_type": "code",
   "execution_count": 13,
   "id": "913d9b6d",
   "metadata": {},
   "outputs": [],
   "source": [
    "f = AsNamedConstant( external_successor_mod_3 );"
   ]
  },
  {
   "cell_type": "code",
   "execution_count": 14,
   "id": "cb979668",
   "metadata": {},
   "outputs": [],
   "source": [
    "function_type_M_M = FunctionType( M, M );"
   ]
  },
  {
   "cell_type": "markdown",
   "id": "9836d6e5",
   "metadata": {},
   "source": [
    "Named constants are morphisms from the empty context to a function type:"
   ]
  },
  {
   "cell_type": "code",
   "execution_count": 15,
   "id": "012cafe4",
   "metadata": {},
   "outputs": [
    {
     "name": "stdout",
     "output_type": "stream",
     "text": [
      "true\n",
      "true\n"
     ]
    }
   ],
   "source": [
    "Display( Source( f ) == empty_context );\n",
    "Display( Range( f ) == function_type_M_M );"
   ]
  },
  {
   "cell_type": "markdown",
   "id": "6d8a76dd",
   "metadata": {},
   "source": [
    "Get a free variable of type M:"
   ]
  },
  {
   "cell_type": "code",
   "execution_count": 16,
   "id": "51a10cd0",
   "metadata": {},
   "outputs": [],
   "source": [
    "x = FreeVariableOfType( M );"
   ]
  },
  {
   "cell_type": "markdown",
   "id": "d359100e",
   "metadata": {},
   "source": [
    "Apply f to the free variable x, i.e. form the lambda term \"fx\":"
   ]
  },
  {
   "cell_type": "code",
   "execution_count": 17,
   "id": "0e85d7a7",
   "metadata": {},
   "outputs": [],
   "source": [
    "fx = Application( M, M, f, x );"
   ]
  },
  {
   "cell_type": "markdown",
   "id": "fe7af5e7",
   "metadata": {},
   "source": [
    "Type safety: The following would throw an error:"
   ]
  },
  {
   "cell_type": "code",
   "execution_count": 18,
   "id": "baa21ceb",
   "metadata": {},
   "outputs": [],
   "source": [
    "# Display( Application( M, M, f, FreeVariableOfType( N ) ) );"
   ]
  },
  {
   "cell_type": "markdown",
   "id": "2073d5b1",
   "metadata": {},
   "source": [
    "Bind the free variable x again by abstraction, i.e. form the lambda term \"λx.fx\":"
   ]
  },
  {
   "cell_type": "code",
   "execution_count": 19,
   "id": "68dc977b",
   "metadata": {},
   "outputs": [],
   "source": [
    "lambda_x_fx = Abstraction( empty_context, M, fx );"
   ]
  },
  {
   "cell_type": "code",
   "execution_count": 20,
   "id": "302ff25b",
   "metadata": {},
   "outputs": [
    {
     "name": "stdout",
     "output_type": "stream",
     "text": [
      "true\n"
     ]
    }
   ],
   "source": [
    "Display( lambda_x_fx == f ); # eta-Konversion: \"λx.fx == f\""
   ]
  },
  {
   "cell_type": "markdown",
   "id": "b2db9bf3",
   "metadata": {},
   "source": [
    "Create λx.f(f(fx)):"
   ]
  },
  {
   "cell_type": "code",
   "execution_count": 21,
   "id": "53a10aa3",
   "metadata": {},
   "outputs": [],
   "source": [
    "f_fx = Application( M, M, f, fx );"
   ]
  },
  {
   "cell_type": "markdown",
   "id": "02bdc918",
   "metadata": {},
   "source": [
    "Source( f_fx ) is 1 x (1 x M) which is equivalent to 1 x M via the left unitor:"
   ]
  },
  {
   "cell_type": "code",
   "execution_count": 22,
   "id": "9de49ceb",
   "metadata": {},
   "outputs": [],
   "source": [
    "f_fx = PreCompose( CartesianLeftUnitorInverse( NewContext( empty_context, M ) ), f_fx );"
   ]
  },
  {
   "cell_type": "markdown",
   "id": "709d55b4",
   "metadata": {},
   "source": [
    "Now Source( f_fx ) is simplified to 1 x M."
   ]
  },
  {
   "cell_type": "code",
   "execution_count": 23,
   "id": "2bd2570b",
   "metadata": {},
   "outputs": [],
   "source": [
    "f_f_fx = Application( M, M, f, f_fx );\n",
    "f_f_fx = PreCompose( CartesianLeftUnitorInverse( NewContext( empty_context, M ) ), f_f_fx );"
   ]
  },
  {
   "cell_type": "code",
   "execution_count": 24,
   "id": "28aac3bb",
   "metadata": {},
   "outputs": [],
   "source": [
    "lambda_x_f_f_fx = Abstraction( empty_context, M, f_f_fx );"
   ]
  },
  {
   "cell_type": "markdown",
   "id": "a0e2219a",
   "metadata": {},
   "source": [
    "Recall that f was the successor function mod 3.\n",
    "As expected, \"λx.f(f(fx))\" is equal to \"λx.id_M x\":"
   ]
  },
  {
   "cell_type": "code",
   "execution_count": 25,
   "id": "e791b154",
   "metadata": {},
   "outputs": [
    {
     "name": "stdout",
     "output_type": "stream",
     "text": [
      "true\n"
     ]
    }
   ],
   "source": [
    "Display( lambda_x_f_f_fx == AsNamedConstant( IdentityMorphism( M ) ) );"
   ]
  },
  {
   "cell_type": "markdown",
   "id": "77ae5e08",
   "metadata": {},
   "source": [
    "#### Example: Church booleans\n",
    "https://en.wikipedia.org/wiki/Church_encoding#Church_Booleans\n",
    "\n",
    "In lambda calculus, booleans can be modeled as \n",
    "\n",
    "true = λa.λb.a\n",
    "\n",
    "false = λa.λb.b\n",
    "\n",
    "In *typed* lambda calculus, a and b must be of some type, so actually for every type we get \"booleans on this type\".\n"
   ]
  },
  {
   "cell_type": "markdown",
   "id": "5a5f73fb",
   "metadata": {},
   "source": [
    "Construct true and false on N:"
   ]
  },
  {
   "cell_type": "code",
   "execution_count": 26,
   "id": "ca0d32a2",
   "metadata": {},
   "outputs": [],
   "source": [
    "type_of_booleans_on_N = FunctionType( N, FunctionType( N, N ) );"
   ]
  },
  {
   "cell_type": "code",
   "execution_count": 27,
   "id": "89e3b723",
   "metadata": {},
   "outputs": [],
   "source": [
    "true_on_N_external = MapOfFinSets(\n",
    "    N,\n",
    "    [\n",
    "        [ 0, ConstantMapOfFinSets( N, 0, N ) ],\n",
    "        [ 1, ConstantMapOfFinSets( N, 1, N ) ],\n",
    "    ],\n",
    "    FunctionType( N, N )\n",
    ");\n",
    "@assert IsWellDefined( true_on_N_external )"
   ]
  },
  {
   "cell_type": "code",
   "execution_count": 28,
   "id": "2b3fade5",
   "metadata": {},
   "outputs": [],
   "source": [
    "false_on_N_external = ConstantMapOfFinSets( N, IdentityMorphism( N ), FunctionType( N, N ) );\n",
    "@assert IsWellDefined( false_on_N_external )"
   ]
  },
  {
   "cell_type": "markdown",
   "id": "07cdfeea",
   "metadata": {},
   "source": [
    "Construct the predicate \"is_zero\" on N:"
   ]
  },
  {
   "cell_type": "code",
   "execution_count": 29,
   "id": "d0959b9c",
   "metadata": {},
   "outputs": [],
   "source": [
    "predicate_is_zero_on_N_external = MapOfFinSets(\n",
    "    N,\n",
    "    [\n",
    "        [ 0, true_on_N_external ],\n",
    "        [ 1, false_on_N_external ],\n",
    "    ],\n",
    "    type_of_booleans_on_N\n",
    ");"
   ]
  },
  {
   "cell_type": "markdown",
   "id": "87af6ab4",
   "metadata": {},
   "source": [
    "Import it as a named constant:"
   ]
  },
  {
   "cell_type": "code",
   "execution_count": 30,
   "id": "0375e85c",
   "metadata": {},
   "outputs": [],
   "source": [
    "is_zero = AsNamedConstant( predicate_is_zero_on_N_external );"
   ]
  },
  {
   "cell_type": "markdown",
   "id": "f734130e",
   "metadata": {},
   "source": [
    "Now we want to model the following function on N = {0,1}:\n",
    "```\n",
    "function ( x )\n",
    "    if x == 0 then\n",
    "        return 1;\n",
    "    else\n",
    "        return 0;\n",
    "    fi;\n",
    "end;\n",
    "```"
   ]
  },
  {
   "cell_type": "code",
   "execution_count": 31,
   "id": "6f02ccf7",
   "metadata": {},
   "outputs": [],
   "source": [
    "x = FreeVariableOfType( N );"
   ]
  },
  {
   "cell_type": "markdown",
   "id": "d78450e2",
   "metadata": {},
   "source": [
    "Construct the values 0 and 1 in N:\n",
    "\n",
    "(I'm not sure if/how this generalizes to settings where the empty context is not a terminal object)"
   ]
  },
  {
   "cell_type": "code",
   "execution_count": 32,
   "id": "cae1b4ca",
   "metadata": {},
   "outputs": [],
   "source": [
    "zero_in_N = MapOfFinSets( empty_context, [ [ AsList( empty_context )[1], 0 ] ], N );\n",
    "one_in_N = MapOfFinSets( empty_context, [ [ AsList( empty_context )[1], 1 ] ], N );"
   ]
  },
  {
   "cell_type": "markdown",
   "id": "ad804839",
   "metadata": {},
   "source": [
    "By construction, is_zero_x can be applied to two values: if x is zero, the first value is returned, else the second value:"
   ]
  },
  {
   "cell_type": "code",
   "execution_count": 33,
   "id": "88dde331",
   "metadata": {},
   "outputs": [],
   "source": [
    "is_zero_x = Application( N, type_of_booleans_on_N, is_zero, x );"
   ]
  },
  {
   "cell_type": "code",
   "execution_count": 34,
   "id": "fd7c0ab7",
   "metadata": {},
   "outputs": [],
   "source": [
    "is_zero_x_1 = Application( N, FunctionType( N, N ), is_zero_x, one_in_N );"
   ]
  },
  {
   "cell_type": "markdown",
   "id": "d7723aa9",
   "metadata": {},
   "source": [
    "As above, simplify source by composing with the correct unitor:"
   ]
  },
  {
   "cell_type": "code",
   "execution_count": 35,
   "id": "0e97983e",
   "metadata": {},
   "outputs": [],
   "source": [
    "is_zero_x_1 = PreCompose( CartesianRightUnitorInverse( NewContext( empty_context, N ) ), is_zero_x_1 );"
   ]
  },
  {
   "cell_type": "code",
   "execution_count": 36,
   "id": "22c3ae07",
   "metadata": {},
   "outputs": [],
   "source": [
    "is_zero_x_1_0 = Application( N, N, is_zero_x_1, zero_in_N );\n",
    "is_zero_x_1_0 = PreCompose( CartesianRightUnitorInverse( NewContext( empty_context, N ) ), is_zero_x_1_0 );"
   ]
  },
  {
   "cell_type": "code",
   "execution_count": 37,
   "id": "b681e49d",
   "metadata": {},
   "outputs": [],
   "source": [
    "lambda_x_is_zero_x_1_0 = Abstraction( empty_context, N, is_zero_x_1_0 );"
   ]
  },
  {
   "cell_type": "markdown",
   "id": "6b8d2bca",
   "metadata": {},
   "source": [
    "Check that lambda_x_is_zero_x_1_0 indeed is the function swapping 0 and 1 as expected:"
   ]
  },
  {
   "cell_type": "code",
   "execution_count": 38,
   "id": "f801769f",
   "metadata": {},
   "outputs": [
    {
     "name": "stdout",
     "output_type": "stream",
     "text": [
      "true\n"
     ]
    }
   ],
   "source": [
    "external_swap = MapOfFinSets( N, [ [0,1], [1,0] ], N );\n",
    "Display( lambda_x_is_zero_x_1_0 == AsNamedConstant( external_swap ) );"
   ]
  }
 ],
 "metadata": {
  "@webio": {
   "lastCommId": null,
   "lastKernelId": null
  },
  "kernelspec": {
   "display_name": "Julia 1.7.3",
   "language": "julia",
   "name": "julia-1.7"
  },
  "language_info": {
   "file_extension": ".jl",
   "mimetype": "application/julia",
   "name": "julia",
   "version": "1.7.3"
  }
 },
 "nbformat": 4,
 "nbformat_minor": 5
}
