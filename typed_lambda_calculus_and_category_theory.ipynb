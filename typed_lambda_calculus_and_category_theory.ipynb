{
 "cells": [
  {
   "cell_type": "markdown",
   "id": "5dd5d895",
   "metadata": {},
   "source": [
    "[![Binder](https://mybinder.org/badge_logo.svg)](https://mybinder.org/v2/gh/homalg-project/FinSetsForCAP/demo?filepath=typed_lambda_calculus_and_category_theory.ipynb)"
   ]
  },
  {
   "cell_type": "markdown",
   "id": "79ce43d6",
   "metadata": {},
   "source": [
    "Load required Julia packages:"
   ]
  },
  {
   "cell_type": "code",
   "execution_count": null,
   "id": "81a56e25",
   "metadata": {},
   "outputs": [],
   "source": [
    "using Pkg\n",
    "Pkg.add(url = \"https://github.com/zickgraf/CAP.jl.git\")\n",
    "Pkg.add(url = \"https://github.com/zickgraf/CartesianCategories.jl.git\")\n",
    "Pkg.add(url = \"https://github.com/zickgraf/Toposes.jl.git\")\n",
    "Pkg.add(url = \"https://github.com/zickgraf/FinSetsForCAP.jl.git\")"
   ]
  },
  {
   "cell_type": "code",
   "execution_count": 1,
   "id": "13271383",
   "metadata": {
    "scrolled": true
   },
   "outputs": [
    {
     "name": "stderr",
     "output_type": "stream",
     "text": [
      "\u001b[36m\u001b[1m[ \u001b[22m\u001b[39m\u001b[36m\u001b[1mInfo: \u001b[22m\u001b[39mPrecompiling CartesianCategories [c5961c08-7b59-43f4-a15e-02b3e7c87ab8]\n",
      "\u001b[36m\u001b[1m[ \u001b[22m\u001b[39m\u001b[36m\u001b[1mInfo: \u001b[22m\u001b[39mSkipping precompilation since __precompile__(false). Importing CartesianCategories [c5961c08-7b59-43f4-a15e-02b3e7c87ab8].\n",
      "\u001b[36m\u001b[1m[ \u001b[22m\u001b[39m\u001b[36m\u001b[1mInfo: \u001b[22m\u001b[39mPrecompiling Toposes [36a15fe6-6211-457f-8fdb-aa2e0d2f3052]\n",
      "\u001b[36m\u001b[1m[ \u001b[22m\u001b[39m\u001b[36m\u001b[1mInfo: \u001b[22m\u001b[39mSkipping precompilation since __precompile__(false). Importing Toposes [36a15fe6-6211-457f-8fdb-aa2e0d2f3052].\n",
      "\u001b[36m\u001b[1m[ \u001b[22m\u001b[39m\u001b[36m\u001b[1mInfo: \u001b[22m\u001b[39mPrecompiling FinSetsForCAP [0a079e9b-4bc2-44fe-a89b-7607e4464786]\n",
      "\u001b[36m\u001b[1m[ \u001b[22m\u001b[39m\u001b[36m\u001b[1mInfo: \u001b[22m\u001b[39mSkipping precompilation since __precompile__(false). Importing FinSetsForCAP [0a079e9b-4bc2-44fe-a89b-7607e4464786].\n"
     ]
    }
   ],
   "source": [
    "using CAP; using CartesianCategories; using Toposes; using FinSetsForCAP"
   ]
  },
  {
   "cell_type": "markdown",
   "id": "48acec9b",
   "metadata": {},
   "source": [
    "#### Example: Objects and morphisms in the category FinSets"
   ]
  },
  {
   "cell_type": "code",
   "execution_count": 2,
   "id": "599fda7f",
   "metadata": {
    "scrolled": true
   },
   "outputs": [
    {
     "name": "stdout",
     "output_type": "stream",
     "text": [
      "A CAP category with name FinSets:\n",
      "\n",
      "60 primitive operations were used to derive 287 operations for this category which algorithmically\n",
      "* IsEquippedWithHomomorphismStructure\n",
      "* IsElementaryTopos\n"
     ]
    }
   ],
   "source": [
    "Display( FinSets )"
   ]
  },
  {
   "cell_type": "markdown",
   "id": "8237d191",
   "metadata": {},
   "source": [
    "Create $M = \\{1,2,3\\}$ as an object in FinSets:"
   ]
  },
  {
   "cell_type": "code",
   "execution_count": 3,
   "id": "ec3917d4",
   "metadata": {},
   "outputs": [
    {
     "data": {
      "text/plain": [
       "<An object in FinSets>"
      ]
     },
     "execution_count": 3,
     "metadata": {},
     "output_type": "execute_result"
    }
   ],
   "source": [
    "M = FinSet( [ 1, 2, 3 ] )"
   ]
  },
  {
   "cell_type": "code",
   "execution_count": 4,
   "id": "ddfd7e8c",
   "metadata": {},
   "outputs": [
    {
     "name": "stdout",
     "output_type": "stream",
     "text": [
      "[ 1, 2, 3 ]\n"
     ]
    }
   ],
   "source": [
    "Display( M )"
   ]
  },
  {
   "cell_type": "markdown",
   "id": "5a953716",
   "metadata": {},
   "source": [
    "Create $N =  \\{`a`,`b`\\}$ as an object in FinSets:"
   ]
  },
  {
   "cell_type": "code",
   "execution_count": 5,
   "id": "aae1455e",
   "metadata": {},
   "outputs": [
    {
     "data": {
      "text/plain": [
       "<An object in FinSets>"
      ]
     },
     "execution_count": 5,
     "metadata": {},
     "output_type": "execute_result"
    }
   ],
   "source": [
    "N = FinSet( [ 'a', 'b' ] )"
   ]
  },
  {
   "cell_type": "code",
   "execution_count": 6,
   "id": "dd22fdeb",
   "metadata": {},
   "outputs": [
    {
     "name": "stdout",
     "output_type": "stream",
     "text": [
      "[ 'a', 'b' ]\n"
     ]
    }
   ],
   "source": [
    "Display( N )"
   ]
  },
  {
   "cell_type": "markdown",
   "id": "0e9cb234",
   "metadata": {},
   "source": [
    "Create $f : M \\to N$ such that $f(1) = `b`, f(2) = `a`, f(3) = `b`$ as a morphism in FinSets:"
   ]
  },
  {
   "cell_type": "code",
   "execution_count": 7,
   "id": "cedd3c29",
   "metadata": {},
   "outputs": [
    {
     "data": {
      "text/plain": [
       "<A morphism in FinSets>"
      ]
     },
     "execution_count": 7,
     "metadata": {},
     "output_type": "execute_result"
    }
   ],
   "source": [
    "f = MapOfFinSets( M, [ [1, 'b'], [2, 'a'], [3, 'b'] ], N )"
   ]
  },
  {
   "cell_type": "code",
   "execution_count": 8,
   "id": "a547e270",
   "metadata": {
    "scrolled": true
   },
   "outputs": [
    {
     "data": {
      "text/plain": [
       "true"
      ]
     },
     "execution_count": 8,
     "metadata": {},
     "output_type": "execute_result"
    }
   ],
   "source": [
    "IsWellDefined( f )"
   ]
  },
  {
   "cell_type": "code",
   "execution_count": 9,
   "id": "35e5e8f1",
   "metadata": {},
   "outputs": [
    {
     "data": {
      "text/plain": [
       "('b', 'a', 'b')"
      ]
     },
     "execution_count": 9,
     "metadata": {},
     "output_type": "execute_result"
    }
   ],
   "source": [
    "f(1), f(2), f(3)"
   ]
  },
  {
   "cell_type": "code",
   "execution_count": 10,
   "id": "514c83e5",
   "metadata": {},
   "outputs": [
    {
     "data": {
      "text/plain": [
       "<A morphism in FinSets>"
      ]
     },
     "execution_count": 10,
     "metadata": {},
     "output_type": "execute_result"
    }
   ],
   "source": [
    "g = MapOfFinSets( M, [ [1, 'b'], [2, 'a'], [3, 'c'] ], N )"
   ]
  },
  {
   "cell_type": "code",
   "execution_count": 11,
   "id": "f54c63ef",
   "metadata": {},
   "outputs": [
    {
     "data": {
      "text/plain": [
       "false"
      ]
     },
     "execution_count": 11,
     "metadata": {},
     "output_type": "execute_result"
    }
   ],
   "source": [
    "IsWellDefined( g )"
   ]
  },
  {
   "cell_type": "markdown",
   "id": "5b5809e5",
   "metadata": {},
   "source": [
    "Construct the identity morphism $\\mathrm{id}_M : M \\to M, x \\mapsto x$:"
   ]
  },
  {
   "cell_type": "code",
   "execution_count": 12,
   "id": "1a1ca095",
   "metadata": {},
   "outputs": [
    {
     "data": {
      "text/plain": [
       "<A morphism in FinSets>"
      ]
     },
     "execution_count": 12,
     "metadata": {},
     "output_type": "execute_result"
    }
   ],
   "source": [
    "id_M = IdentityMorphism( M )"
   ]
  },
  {
   "cell_type": "code",
   "execution_count": 13,
   "id": "22168e8f",
   "metadata": {
    "scrolled": true
   },
   "outputs": [
    {
     "data": {
      "text/plain": [
       "(1, 2, 3)"
      ]
     },
     "execution_count": 13,
     "metadata": {},
     "output_type": "execute_result"
    }
   ],
   "source": [
    "id_M(1), id_M(2), id_M(3)"
   ]
  },
  {
   "cell_type": "markdown",
   "id": "a2752c7e",
   "metadata": {},
   "source": [
    "Compute $f \\circ id_M : M \\to M \\to N$ (recall: $f : M \\to N$)"
   ]
  },
  {
   "cell_type": "code",
   "execution_count": 14,
   "id": "6fc7770f",
   "metadata": {},
   "outputs": [
    {
     "data": {
      "text/plain": [
       "true"
      ]
     },
     "execution_count": 14,
     "metadata": {},
     "output_type": "execute_result"
    }
   ],
   "source": [
    "PostCompose( f, id_M ) == f"
   ]
  },
  {
   "cell_type": "code",
   "execution_count": 15,
   "id": "97698b49",
   "metadata": {},
   "outputs": [],
   "source": [
    "# PostCompose( id_M, f )"
   ]
  },
  {
   "cell_type": "markdown",
   "id": "56427a1d",
   "metadata": {},
   "source": [
    "Compute $M \\times N = \\{(m,n) \\mid m \\in M, n \\in N\\}$:"
   ]
  },
  {
   "cell_type": "code",
   "execution_count": 16,
   "id": "63f71ac5",
   "metadata": {},
   "outputs": [
    {
     "name": "stdout",
     "output_type": "stream",
     "text": [
      "[ [ 1, 'a' ], [ 2, 'a' ], [ 3, 'a' ], [ 1, 'b' ], [ 2, 'b' ], [ 3, 'b' ] ]\n"
     ]
    }
   ],
   "source": [
    "Display( DirectProduct( M, N ) )"
   ]
  },
  {
   "cell_type": "markdown",
   "id": "27eff467",
   "metadata": {},
   "source": [
    "Compute the projection $\\pi_N : M \\times N \\to N, (a,b) \\mapsto b$:"
   ]
  },
  {
   "cell_type": "code",
   "execution_count": 17,
   "id": "13194539",
   "metadata": {
    "scrolled": true
   },
   "outputs": [
    {
     "name": "stdout",
     "output_type": "stream",
     "text": [
      "[ [ [ 1, 'a' ], 'a' ], [ [ 2, 'a' ], 'a' ], [ [ 3, 'a' ], 'a' ], [ [ 1, 'b' ], 'b' ], [ [ 2, 'b' ], 'b' ], [ [ 3, 'b' ], 'b' ] ]\n"
     ]
    }
   ],
   "source": [
    "Display( AsList( ProjectionInFactorOfDirectProduct( [ M, N ], 2 ) ) )"
   ]
  },
  {
   "cell_type": "markdown",
   "id": "c1e884e1",
   "metadata": {},
   "source": [
    "Compute $M \\sqcup N = (\\{1\\} \\times M) \\cup (\\{2\\} \\times N)$:"
   ]
  },
  {
   "cell_type": "code",
   "execution_count": 18,
   "id": "5a98fbb3",
   "metadata": {},
   "outputs": [
    {
     "name": "stdout",
     "output_type": "stream",
     "text": [
      "[ [ 1, 1 ], [ 1, 2 ], [ 1, 3 ], [ 2, 'a' ], [ 2, 'b' ] ]\n"
     ]
    }
   ],
   "source": [
    "Display( Coproduct( M, N ) )"
   ]
  },
  {
   "cell_type": "markdown",
   "id": "3e0d2b15",
   "metadata": {},
   "source": [
    "Compute the embedding $\\iota_N : N \\to M \\sqcup N : x \\mapsto (2,x)$:"
   ]
  },
  {
   "cell_type": "code",
   "execution_count": 19,
   "id": "74e85663",
   "metadata": {},
   "outputs": [
    {
     "name": "stdout",
     "output_type": "stream",
     "text": [
      "[ [ 'a', [ 2, 'a' ] ], [ 'b', [ 2, 'b' ] ] ]\n"
     ]
    }
   ],
   "source": [
    "Display( AsList( InjectionOfCofactorOfCoproduct( [ M, N ], 2 ) ) )"
   ]
  },
  {
   "cell_type": "markdown",
   "id": "f417ce98",
   "metadata": {},
   "source": [
    "#### Convenience\n",
    "Hide technical terms from category theory behind technical terms from lamda calculus:"
   ]
  },
  {
   "cell_type": "code",
   "execution_count": 20,
   "id": "3b2087ca",
   "metadata": {},
   "outputs": [],
   "source": [
    "NewContext = DirectProduct; # for a context and a type\n",
    "FunctionType = ExponentialOnObjects; # for two types\n",
    "EmptyContext = TerminalObject;\n",
    "AsNamedConstant = CartesianLambdaIntroduction;\n",
    "FreeVariableOfType = IdentityMorphism;\n",
    "\n",
    "Application = function( source_type, range_type, function_type_judgement, term_type_judgement )\n",
    "    \n",
    "    #@assert IsEqualForObjects( Range( function_type_judgement ), ExponentialOnObjects( source_type, range_type ) )\n",
    "    #@assert IsEqualForObjects( Range( term_type_judgement ), source_type )\n",
    "    \n",
    "    return PreCompose( DirectProductFunctorial( [ function_type_judgement, term_type_judgement ] ), CartesianEvaluationMorphism( source_type, range_type ) );\n",
    "    \n",
    "end;\n",
    "\n",
    "Abstraction = function( context, variable_type, term_type_judgement )\n",
    "    \n",
    "    @assert Source( term_type_judgement ) == DirectProduct( context, variable_type );\n",
    "    \n",
    "    return DirectProductToExponentialAdjunctionMap( context, variable_type, term_type_judgement );\n",
    "    \n",
    "end;"
   ]
  },
  {
   "cell_type": "markdown",
   "id": "ea55489b",
   "metadata": {},
   "source": [
    "#### Example: Types and contexts"
   ]
  },
  {
   "cell_type": "markdown",
   "id": "5b7f5d90",
   "metadata": {},
   "source": [
    "Create some types:"
   ]
  },
  {
   "cell_type": "code",
   "execution_count": 21,
   "id": "e00a5c79",
   "metadata": {},
   "outputs": [],
   "source": [
    "M = FinSet( [ 0, 1, 2 ] ); # the type of integers mod 3 (could also be the type of Apples, Bananas, Oranges)\n",
    "N = FinSet( [ 0, 1 ] ); # the type of integers mod 2"
   ]
  },
  {
   "cell_type": "code",
   "execution_count": 22,
   "id": "f7a4989e",
   "metadata": {},
   "outputs": [
    {
     "name": "stdout",
     "output_type": "stream",
     "text": [
      "[ [ ] ]\n"
     ]
    }
   ],
   "source": [
    "empty_context = EmptyContext( FinSets )\n",
    "Display( empty_context )"
   ]
  },
  {
   "cell_type": "markdown",
   "id": "369ebbc3",
   "metadata": {},
   "source": [
    "Construct a context with two free variables: the first of type \"integers mod 3\", the second of type \"integers mod 2\":"
   ]
  },
  {
   "cell_type": "code",
   "execution_count": 23,
   "id": "8da847ae",
   "metadata": {},
   "outputs": [
    {
     "name": "stdout",
     "output_type": "stream",
     "text": [
      "[ [ [ [ ], 0 ], 0 ], [ [ [ ], 1 ], 0 ], [ [ [ ], 2 ], 0 ], [ [ [ ], 0 ], 1 ], [ [ [ ], 1 ], 1 ], [ [ [ ], 2 ], 1 ] ]\n"
     ]
    }
   ],
   "source": [
    "context_1_M = NewContext( empty_context, M );\n",
    "context_1_M_N = NewContext( context_1_M, N );\n",
    "Display( context_1_M_N );"
   ]
  },
  {
   "cell_type": "markdown",
   "id": "99321f95",
   "metadata": {},
   "source": [
    "Construct a function type:"
   ]
  },
  {
   "cell_type": "code",
   "execution_count": 24,
   "id": "e953f53e",
   "metadata": {},
   "outputs": [
    {
     "name": "stdout",
     "output_type": "stream",
     "text": [
      "[ [ 0, 1, 2 ], [ [ 0, 0 ], [ 1, 0 ], [ 2, 0 ] ], [ 0, 1 ] ]\n",
      "[ [ 0, 1, 2 ], [ [ 0, 1 ], [ 1, 0 ], [ 2, 0 ] ], [ 0, 1 ] ]\n",
      "[ [ 0, 1, 2 ], [ [ 0, 0 ], [ 1, 1 ], [ 2, 0 ] ], [ 0, 1 ] ]\n",
      "[ [ 0, 1, 2 ], [ [ 0, 1 ], [ 1, 1 ], [ 2, 0 ] ], [ 0, 1 ] ]\n",
      "[ [ 0, 1, 2 ], [ [ 0, 0 ], [ 1, 0 ], [ 2, 1 ] ], [ 0, 1 ] ]\n",
      "[ [ 0, 1, 2 ], [ [ 0, 1 ], [ 1, 0 ], [ 2, 1 ] ], [ 0, 1 ] ]\n",
      "[ [ 0, 1, 2 ], [ [ 0, 0 ], [ 1, 1 ], [ 2, 1 ] ], [ 0, 1 ] ]\n",
      "[ [ 0, 1, 2 ], [ [ 0, 1 ], [ 1, 1 ], [ 2, 1 ] ], [ 0, 1 ] ]\n"
     ]
    }
   ],
   "source": [
    "list_of_maps_M_to_N = AsList( FunctionType( M, N ) );\n",
    "Perform( list_of_maps_M_to_N, Display );"
   ]
  },
  {
   "cell_type": "markdown",
   "id": "43431b4f",
   "metadata": {},
   "source": [
    "#### Example: successor function"
   ]
  },
  {
   "cell_type": "markdown",
   "id": "dfbd88e3",
   "metadata": {},
   "source": [
    "Define the successor function mod 3 as an external function:"
   ]
  },
  {
   "cell_type": "code",
   "execution_count": 25,
   "id": "365c2dfb",
   "metadata": {},
   "outputs": [],
   "source": [
    "external_successor_mod_3 = MapOfFinSets( M, [ [0,1], [1,2], [2,0] ], M );\n",
    "@assert IsWellDefined( external_successor_mod_3 );"
   ]
  },
  {
   "cell_type": "markdown",
   "id": "ed593fc5",
   "metadata": {},
   "source": [
    "Import it as a named constant:"
   ]
  },
  {
   "cell_type": "code",
   "execution_count": 26,
   "id": "913d9b6d",
   "metadata": {},
   "outputs": [],
   "source": [
    "f = AsNamedConstant( external_successor_mod_3 );"
   ]
  },
  {
   "cell_type": "markdown",
   "id": "6d8a76dd",
   "metadata": {},
   "source": [
    "Get a free variable of type $M$:"
   ]
  },
  {
   "cell_type": "code",
   "execution_count": 27,
   "id": "51a10cd0",
   "metadata": {},
   "outputs": [],
   "source": [
    "x = FreeVariableOfType( M );"
   ]
  },
  {
   "cell_type": "markdown",
   "id": "d359100e",
   "metadata": {},
   "source": [
    "Apply $f$ to the free variable $x$, i.e. form the term $f(x)$:"
   ]
  },
  {
   "cell_type": "code",
   "execution_count": 28,
   "id": "0e85d7a7",
   "metadata": {},
   "outputs": [],
   "source": [
    "fx = Application( M, M, f, x );"
   ]
  },
  {
   "cell_type": "markdown",
   "id": "fe7af5e7",
   "metadata": {},
   "source": [
    "Type safety: The following would throw an error:"
   ]
  },
  {
   "cell_type": "code",
   "execution_count": 29,
   "id": "baa21ceb",
   "metadata": {},
   "outputs": [],
   "source": [
    "# Application( M, M, f, FreeVariableOfType( N ) );"
   ]
  },
  {
   "cell_type": "markdown",
   "id": "2073d5b1",
   "metadata": {},
   "source": [
    "Bind the free variable $x$ again by abstraction, i.e. form the lambda term $\\lambda x.f(x)$:"
   ]
  },
  {
   "cell_type": "code",
   "execution_count": 30,
   "id": "68dc977b",
   "metadata": {},
   "outputs": [],
   "source": [
    "lambda_x_fx = Abstraction( empty_context, M, fx );"
   ]
  },
  {
   "cell_type": "markdown",
   "id": "c16ee30d",
   "metadata": {},
   "source": [
    "Test $\\eta$-conversion: $\\lambda x.f(x) \\equiv f$:"
   ]
  },
  {
   "cell_type": "code",
   "execution_count": 31,
   "id": "302ff25b",
   "metadata": {
    "scrolled": true
   },
   "outputs": [
    {
     "data": {
      "text/plain": [
       "true"
      ]
     },
     "execution_count": 31,
     "metadata": {},
     "output_type": "execute_result"
    }
   ],
   "source": [
    "lambda_x_fx == f"
   ]
  },
  {
   "cell_type": "markdown",
   "id": "b2db9bf3",
   "metadata": {},
   "source": [
    "Create the term $f(f(x))$:"
   ]
  },
  {
   "cell_type": "code",
   "execution_count": 32,
   "id": "53a10aa3",
   "metadata": {},
   "outputs": [],
   "source": [
    "f_fx = Application( M, M, f, fx );"
   ]
  },
  {
   "cell_type": "markdown",
   "id": "02bdc918",
   "metadata": {},
   "source": [
    "Source( f_fx ) is 1 x (1 x M) which is equivalent to 1 x M via the left unitor:"
   ]
  },
  {
   "cell_type": "code",
   "execution_count": 33,
   "id": "9de49ceb",
   "metadata": {},
   "outputs": [],
   "source": [
    "f_fx = PreCompose( CartesianLeftUnitorInverse( NewContext( empty_context, M ) ), f_fx );"
   ]
  },
  {
   "cell_type": "markdown",
   "id": "709d55b4",
   "metadata": {},
   "source": [
    "Now Source( f_fx ) is simplified to 1 x M."
   ]
  },
  {
   "cell_type": "markdown",
   "id": "8d2dc8dc",
   "metadata": {},
   "source": [
    "Create the term $f(f(f(x)))$:"
   ]
  },
  {
   "cell_type": "code",
   "execution_count": 34,
   "id": "2bd2570b",
   "metadata": {},
   "outputs": [],
   "source": [
    "f_f_fx = Application( M, M, f, f_fx );\n",
    "f_f_fx = PreCompose( CartesianLeftUnitorInverse( NewContext( empty_context, M ) ), f_f_fx );"
   ]
  },
  {
   "cell_type": "markdown",
   "id": "7ae6c1eb",
   "metadata": {},
   "source": [
    "Create the function $\\lambda x.f(f(f(x)))$:"
   ]
  },
  {
   "cell_type": "code",
   "execution_count": 35,
   "id": "28aac3bb",
   "metadata": {},
   "outputs": [],
   "source": [
    "lambda_x_f_f_fx = Abstraction( empty_context, M, f_f_fx );"
   ]
  },
  {
   "cell_type": "markdown",
   "id": "a0e2219a",
   "metadata": {},
   "source": [
    "Recall that $f$ was the successor function mod 3.\n",
    "As expected, $\\lambda x.f(f(fx))$ is equal to $\\lambda x.id_M x$:"
   ]
  },
  {
   "cell_type": "code",
   "execution_count": 36,
   "id": "e791b154",
   "metadata": {},
   "outputs": [
    {
     "data": {
      "text/plain": [
       "true"
      ]
     },
     "execution_count": 36,
     "metadata": {},
     "output_type": "execute_result"
    }
   ],
   "source": [
    "lambda_x_f_f_fx == AsNamedConstant( IdentityMorphism( M ) )"
   ]
  },
  {
   "cell_type": "markdown",
   "id": "357f961d",
   "metadata": {},
   "source": [
    "Construct $\\lambda x.x$:"
   ]
  },
  {
   "cell_type": "code",
   "execution_count": 37,
   "id": "f82d67e1",
   "metadata": {},
   "outputs": [],
   "source": [
    "lambda_x_x = Abstraction( empty_context, M, PreCompose( CartesianLeftUnitor( M ), x ) );"
   ]
  },
  {
   "cell_type": "markdown",
   "id": "314f8c06",
   "metadata": {},
   "source": [
    "As expected, $\\lambda x.x$ is equal to $\\lambda x.id_M x$, too:"
   ]
  },
  {
   "cell_type": "code",
   "execution_count": 38,
   "id": "232c31eb",
   "metadata": {
    "scrolled": true
   },
   "outputs": [
    {
     "data": {
      "text/plain": [
       "true"
      ]
     },
     "execution_count": 38,
     "metadata": {},
     "output_type": "execute_result"
    }
   ],
   "source": [
    "lambda_x_x == AsNamedConstant( IdentityMorphism( M ) )"
   ]
  }
 ],
 "metadata": {
  "@webio": {
   "lastCommId": null,
   "lastKernelId": null
  },
  "kernelspec": {
   "display_name": "Julia 1.9.0",
   "language": "julia",
   "name": "julia-1.9"
  },
  "language_info": {
   "file_extension": ".jl",
   "mimetype": "application/julia",
   "name": "julia",
   "version": "1.9.0"
  }
 },
 "nbformat": 4,
 "nbformat_minor": 5
}
